{
 "cells": [
  {
   "cell_type": "code",
   "execution_count": null,
   "id": "13ad8506-0288-4942-a37f-ece583237a51",
   "metadata": {
    "scrolled": true
   },
   "outputs": [],
   "source": [
    "!pip install ultralytics"
   ]
  },
  {
   "cell_type": "code",
   "execution_count": null,
   "id": "9638099c-7a1f-44cd-9525-5e051de0dad5",
   "metadata": {},
   "outputs": [],
   "source": [
    "from ultralytics import YOLO\n",
    "import os\n",
    "import boto3\n",
    "import shutil"
   ]
  },
  {
   "cell_type": "code",
   "execution_count": null,
   "id": "27cc3ff0-696f-40b9-b29c-23ad680be8bd",
   "metadata": {},
   "outputs": [],
   "source": [
    "EPOCHS=int(os.environ.get(\"epochs\", 50))\n",
    "IMGSZ=640\n",
    "NB_FROZEN_LAYER=0\n",
    "\n",
    "DATA_CONFIG_PATH = 'utils/data.yaml'\n",
    "LOCAL_DATASET_PATH = \"basketball-dataset/\"\n",
    "\n",
    "BASE_MODEL_PATH = \"models/yolo11n.pt\"\n",
    "TRAIN_MODEL_PATH = f\"models/new-bb-yolo11n{NB_FROZEN_LAYER}.pt\"\n",
    "TRAIN_MODEL_PATH_ONNX = f\"models/new-bb-yolo11n{NB_FROZEN_LAYER}.onnx\"\n",
    "\n",
    "AWS_ACCESS_KEY_ID = os.environ.get(\"AWS_ACCESS_KEY_ID\")\n",
    "AWS_SECRET_ACCESS_KEY = os.environ.get(\"AWS_SECRET_ACCESS_KEY\")\n",
    "AWS_S3_BUCKET = os.environ.get(\"AWS_S3_BUCKET\")\n",
    "AWS_S3_ENDPOINT = os.environ.get(\"AWS_S3_ENDPOINT\")\n",
    "\n",
    "os.environ['PYTORCH_CUDA_ALLOC_CONF'] = 'expandable_segments:True'"
   ]
  },
  {
   "cell_type": "code",
   "execution_count": null,
   "id": "a3614d6d-12b8-4e10-868e-58fc843befb2",
   "metadata": {},
   "outputs": [],
   "source": [
    "session = boto3.Session(\n",
    "    aws_access_key_id=AWS_ACCESS_KEY_ID,\n",
    "    aws_secret_access_key=AWS_SECRET_ACCESS_KEY\n",
    ")\n",
    "client = session.client(\"s3\", endpoint_url=AWS_S3_ENDPOINT)"
   ]
  },
  {
   "cell_type": "code",
   "execution_count": null,
   "id": "c890249a-6578-4c17-9d30-7ce88db8dcff",
   "metadata": {},
   "outputs": [],
   "source": [
    "client.download_file(AWS_S3_BUCKET, BASE_MODEL_PATH, \"base-model.pt\")"
   ]
  },
  {
   "cell_type": "code",
   "execution_count": null,
   "id": "07d4d4cb-6a55-4f5b-928b-3050d06137b1",
   "metadata": {},
   "outputs": [],
   "source": [
    "if os.path.exists('runs'):\n",
    "    shutil.rmtree('runs')\n",
    "model = YOLO('base-model.pt')\n",
    "results = model.train(data=DATA_CONFIG_PATH, epochs=EPOCHS, imgsz=IMGSZ, freeze=NB_FROZEN_LAYER, batch=-1)"
   ]
  },
  {
   "cell_type": "code",
   "execution_count": null,
   "id": "78995eb9-6a96-4923-b1de-35bd4ab22a31",
   "metadata": {},
   "outputs": [],
   "source": [
    "model = YOLO('runs/detect/train/weights/best.pt')"
   ]
  },
  {
   "cell_type": "code",
   "execution_count": null,
   "id": "4fdd442f-9521-46d3-ac3e-34b5516cec0e",
   "metadata": {
    "scrolled": true
   },
   "outputs": [],
   "source": [
    "model.export(format=\"onnx\")"
   ]
  },
  {
   "cell_type": "code",
   "execution_count": null,
   "id": "32a2b95b-dc98-4802-b29b-b1e134013e94",
   "metadata": {},
   "outputs": [],
   "source": [
    "model_path = \"runs/detect/train/weights/best.onnx\""
   ]
  },
  {
   "cell_type": "code",
   "execution_count": null,
   "id": "477ff85f-79d2-4289-98cb-3d41ed4e462b",
   "metadata": {},
   "outputs": [],
   "source": [
    "client.upload_file(model_path, AWS_S3_BUCKET, TRAIN_MODEL_PATH_ONNX)"
   ]
  },
  {
   "cell_type": "code",
   "execution_count": null,
   "id": "9d5a2727-b555-43e2-b281-78c74bb19648",
   "metadata": {},
   "outputs": [],
   "source": [
    "client.upload_file('runs/detect/train/weights/best.pt', AWS_S3_BUCKET, TRAIN_MODEL_PATH)"
   ]
  },
  {
   "cell_type": "code",
   "execution_count": null,
   "id": "bf08f7ef-20df-411e-bdfb-27247ad00b5b",
   "metadata": {},
   "outputs": [],
   "source": [
    "client.upload_file('runs/detect/train/results.csv', AWS_S3_BUCKET, 'results.csv')"
   ]
  }
 ],
 "metadata": {
  "kernelspec": {
   "display_name": "Python 3.11",
   "language": "python",
   "name": "python3"
  },
  "language_info": {
   "codemirror_mode": {
    "name": "ipython",
    "version": 3
   },
   "file_extension": ".py",
   "mimetype": "text/x-python",
   "name": "python",
   "nbconvert_exporter": "python",
   "pygments_lexer": "ipython3",
   "version": "3.11.9"
  }
 },
 "nbformat": 4,
 "nbformat_minor": 5
}
