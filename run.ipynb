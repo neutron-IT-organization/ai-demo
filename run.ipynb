{
 "cells": [
  {
   "cell_type": "code",
   "execution_count": null,
   "id": "7c2116e7-cb6c-4c9c-8d8c-f711491aaeb0",
   "metadata": {},
   "outputs": [],
   "source": [
    "!pip install ultralytics"
   ]
  },
  {
   "cell_type": "code",
   "execution_count": null,
   "id": "fb182f27-64af-4506-b43b-72833609a819",
   "metadata": {},
   "outputs": [],
   "source": [
    "from ultralytics import YOLO\n",
    "import os\n",
    "import boto3"
   ]
  },
  {
   "cell_type": "code",
   "execution_count": null,
   "id": "f74883eb-4397-4125-931b-61eb2e77078f",
   "metadata": {},
   "outputs": [],
   "source": [
    "MODEL_PATH = \"models/new-bb-yolo11x10.pt\"\n",
    "\n",
    "AWS_ACCESS_KEY_ID = os.environ.get(\"AWS_ACCESS_KEY_ID\")\n",
    "AWS_SECRET_ACCESS_KEY = os.environ.get(\"AWS_SECRET_ACCESS_KEY\")\n",
    "AWS_S3_BUCKET = os.environ.get(\"AWS_S3_BUCKET\")\n",
    "AWS_S3_ENDPOINT = os.environ.get(\"AWS_S3_ENDPOINT\")"
   ]
  },
  {
   "cell_type": "code",
   "execution_count": null,
   "id": "883fd5b1-44e9-4e09-b442-817464fcec3c",
   "metadata": {},
   "outputs": [],
   "source": [
    "session = boto3.Session(\n",
    "    aws_access_key_id=AWS_ACCESS_KEY_ID,\n",
    "    aws_secret_access_key=AWS_SECRET_ACCESS_KEY\n",
    ")\n",
    "client = session.client(\"s3\", endpoint_url=AWS_S3_ENDPOINT)"
   ]
  },
  {
   "cell_type": "code",
   "execution_count": null,
   "id": "df69dbfb-7e14-48de-8204-34f75be30bba",
   "metadata": {},
   "outputs": [],
   "source": [
    "client.download_file(AWS_S3_BUCKET, MODEL_PATH, \"/tmp/model.pt\")"
   ]
  },
  {
   "cell_type": "code",
   "execution_count": null,
   "id": "8fe03ff4-ad93-496c-a6f1-289f153e725e",
   "metadata": {},
   "outputs": [],
   "source": [
    "model = YOLO(\"/tmp/model.pt\")\n",
    "results = model([\"https://cdn.vox-cdn.com/thumbor/i68TkqWwk_6HTU2Hv67nVj96IM8=/0x0:6789x4526/1200x800/filters:focal(2900x20:3986x1106)/cdn.vox-cdn.com/uploads/chorus_image/image/73492755/2164077239.0.jpg\"])\n",
    "results[0].show()"
   ]
  }
 ],
 "metadata": {
  "kernelspec": {
   "display_name": "Python 3.11",
   "language": "python",
   "name": "python3"
  },
  "language_info": {
   "codemirror_mode": {
    "name": "ipython",
    "version": 3
   },
   "file_extension": ".py",
   "mimetype": "text/x-python",
   "name": "python",
   "nbconvert_exporter": "python",
   "pygments_lexer": "ipython3",
   "version": "3.11.9"
  }
 },
 "nbformat": 4,
 "nbformat_minor": 5
}
